{
  "nbformat": 4,
  "nbformat_minor": 0,
  "metadata": {
    "colab": {
      "provenance": []
    },
    "kernelspec": {
      "name": "python3",
      "display_name": "Python 3"
    },
    "language_info": {
      "name": "python"
    }
  },
  "cells": [
    {
      "cell_type": "code",
      "execution_count": null,
      "metadata": {
        "id": "WUgKFFFnvcqx"
      },
      "outputs": [],
      "source": [
        "import numpy as np\n",
        "import pandas as pd\n",
        "import matplotlib.pyplot as plt\n",
        "from sklearn.feature_extraction.text import CountVectorizer\n",
        "from sklearn.model_selection import train_test_split\n",
        "from nltk.corpus import stopwords\n",
        "from sklearn.metrics import accuracy_score, f1_score\n",
        "from sklearn.linear_model import LogisticRegression\n",
        "from sklearn.ensemble import RandomForestClassifier\n",
        "from sklearn.svm import SVC\n",
        "from sklearn.naive_bayes import GaussianNB\n",
        "import tensorflow as tf\n",
        "from tensorflow.keras.utils import plot_model\n",
        "from sklearn import tree\n",
        "from tensorflow.keras import models, layers\n",
        "import warnings\n",
        "\n",
        "from sklearn.metrics import confusion_matrix, classification_report, f1_score, precision_score, recall_score, accuracy_score\n",
        "from sklearn.metrics import precision_recall_curve,precision_recall_fscore_support\n",
        "import seaborn as sns\n",
        "warnings.filterwarnings('ignore')"
      ]
    },
    {
      "cell_type": "code",
      "source": [
        "# importation des données\n",
        "df = pd.read_csv(\"Modified_SQL_Dataset.csv\")\n",
        "print(\"Data Shape:\", df.shape)\n",
        "df.head(10)"
      ],
      "metadata": {
        "colab": {
          "base_uri": "https://localhost:8080/",
          "height": 380
        },
        "id": "p0zMY_sBwD6Z",
        "outputId": "08bdd998-a7cc-47ca-8e17-9a56f74a280c"
      },
      "execution_count": null,
      "outputs": [
        {
          "output_type": "stream",
          "name": "stdout",
          "text": [
            "Data Shape: (30919, 2)\n"
          ]
        },
        {
          "output_type": "execute_result",
          "data": {
            "text/plain": [
              "                                               Query  Label\n",
              "0                  \" or pg_sleep  (  __TIME__  )  --      1\n",
              "1  create user name identified by pass123 tempora...      1\n",
              "2   AND 1  =  utl_inaddr.get_host_address   (    ...      1\n",
              "3   select * from users where id  =  '1' or @ @1 ...      1\n",
              "4   select * from users where id  =  1 or 1#\"  ( ...      1\n",
              "5   select name from syscolumns where id   =     ...      1\n",
              "6  select * from users where id  =  1 +$+ or 1  =...      1\n",
              "7  1;  (  load_file  (  char  (  47,101,116,99,47...      1\n",
              "8   select * from users where id  =  '1' or ||/1 ...      1\n",
              "9   select * from users where id  =  '1' or \\.<\\ ...      1"
            ],
            "text/html": [
              "\n",
              "\n",
              "  <div id=\"df-a57e8c58-ad9d-4d71-ae7a-f2451a38ac4b\">\n",
              "    <div class=\"colab-df-container\">\n",
              "      <div>\n",
              "<style scoped>\n",
              "    .dataframe tbody tr th:only-of-type {\n",
              "        vertical-align: middle;\n",
              "    }\n",
              "\n",
              "    .dataframe tbody tr th {\n",
              "        vertical-align: top;\n",
              "    }\n",
              "\n",
              "    .dataframe thead th {\n",
              "        text-align: right;\n",
              "    }\n",
              "</style>\n",
              "<table border=\"1\" class=\"dataframe\">\n",
              "  <thead>\n",
              "    <tr style=\"text-align: right;\">\n",
              "      <th></th>\n",
              "      <th>Query</th>\n",
              "      <th>Label</th>\n",
              "    </tr>\n",
              "  </thead>\n",
              "  <tbody>\n",
              "    <tr>\n",
              "      <th>0</th>\n",
              "      <td>\" or pg_sleep  (  __TIME__  )  --</td>\n",
              "      <td>1</td>\n",
              "    </tr>\n",
              "    <tr>\n",
              "      <th>1</th>\n",
              "      <td>create user name identified by pass123 tempora...</td>\n",
              "      <td>1</td>\n",
              "    </tr>\n",
              "    <tr>\n",
              "      <th>2</th>\n",
              "      <td>AND 1  =  utl_inaddr.get_host_address   (    ...</td>\n",
              "      <td>1</td>\n",
              "    </tr>\n",
              "    <tr>\n",
              "      <th>3</th>\n",
              "      <td>select * from users where id  =  '1' or @ @1 ...</td>\n",
              "      <td>1</td>\n",
              "    </tr>\n",
              "    <tr>\n",
              "      <th>4</th>\n",
              "      <td>select * from users where id  =  1 or 1#\"  ( ...</td>\n",
              "      <td>1</td>\n",
              "    </tr>\n",
              "    <tr>\n",
              "      <th>5</th>\n",
              "      <td>select name from syscolumns where id   =     ...</td>\n",
              "      <td>1</td>\n",
              "    </tr>\n",
              "    <tr>\n",
              "      <th>6</th>\n",
              "      <td>select * from users where id  =  1 +$+ or 1  =...</td>\n",
              "      <td>1</td>\n",
              "    </tr>\n",
              "    <tr>\n",
              "      <th>7</th>\n",
              "      <td>1;  (  load_file  (  char  (  47,101,116,99,47...</td>\n",
              "      <td>1</td>\n",
              "    </tr>\n",
              "    <tr>\n",
              "      <th>8</th>\n",
              "      <td>select * from users where id  =  '1' or ||/1 ...</td>\n",
              "      <td>1</td>\n",
              "    </tr>\n",
              "    <tr>\n",
              "      <th>9</th>\n",
              "      <td>select * from users where id  =  '1' or \\.&lt;\\ ...</td>\n",
              "      <td>1</td>\n",
              "    </tr>\n",
              "  </tbody>\n",
              "</table>\n",
              "</div>\n",
              "      <button class=\"colab-df-convert\" onclick=\"convertToInteractive('df-a57e8c58-ad9d-4d71-ae7a-f2451a38ac4b')\"\n",
              "              title=\"Convert this dataframe to an interactive table.\"\n",
              "              style=\"display:none;\">\n",
              "\n",
              "  <svg xmlns=\"http://www.w3.org/2000/svg\" height=\"24px\"viewBox=\"0 0 24 24\"\n",
              "       width=\"24px\">\n",
              "    <path d=\"M0 0h24v24H0V0z\" fill=\"none\"/>\n",
              "    <path d=\"M18.56 5.44l.94 2.06.94-2.06 2.06-.94-2.06-.94-.94-2.06-.94 2.06-2.06.94zm-11 1L8.5 8.5l.94-2.06 2.06-.94-2.06-.94L8.5 2.5l-.94 2.06-2.06.94zm10 10l.94 2.06.94-2.06 2.06-.94-2.06-.94-.94-2.06-.94 2.06-2.06.94z\"/><path d=\"M17.41 7.96l-1.37-1.37c-.4-.4-.92-.59-1.43-.59-.52 0-1.04.2-1.43.59L10.3 9.45l-7.72 7.72c-.78.78-.78 2.05 0 2.83L4 21.41c.39.39.9.59 1.41.59.51 0 1.02-.2 1.41-.59l7.78-7.78 2.81-2.81c.8-.78.8-2.07 0-2.86zM5.41 20L4 18.59l7.72-7.72 1.47 1.35L5.41 20z\"/>\n",
              "  </svg>\n",
              "      </button>\n",
              "\n",
              "\n",
              "\n",
              "    <div id=\"df-ad60b00e-2d52-48e9-8404-d25e1649e541\">\n",
              "      <button class=\"colab-df-quickchart\" onclick=\"quickchart('df-ad60b00e-2d52-48e9-8404-d25e1649e541')\"\n",
              "              title=\"Suggest charts.\"\n",
              "              style=\"display:none;\">\n",
              "\n",
              "<svg xmlns=\"http://www.w3.org/2000/svg\" height=\"24px\"viewBox=\"0 0 24 24\"\n",
              "     width=\"24px\">\n",
              "    <g>\n",
              "        <path d=\"M19 3H5c-1.1 0-2 .9-2 2v14c0 1.1.9 2 2 2h14c1.1 0 2-.9 2-2V5c0-1.1-.9-2-2-2zM9 17H7v-7h2v7zm4 0h-2V7h2v10zm4 0h-2v-4h2v4z\"/>\n",
              "    </g>\n",
              "</svg>\n",
              "      </button>\n",
              "    </div>\n",
              "\n",
              "<style>\n",
              "  .colab-df-quickchart {\n",
              "    background-color: #E8F0FE;\n",
              "    border: none;\n",
              "    border-radius: 50%;\n",
              "    cursor: pointer;\n",
              "    display: none;\n",
              "    fill: #1967D2;\n",
              "    height: 32px;\n",
              "    padding: 0 0 0 0;\n",
              "    width: 32px;\n",
              "  }\n",
              "\n",
              "  .colab-df-quickchart:hover {\n",
              "    background-color: #E2EBFA;\n",
              "    box-shadow: 0px 1px 2px rgba(60, 64, 67, 0.3), 0px 1px 3px 1px rgba(60, 64, 67, 0.15);\n",
              "    fill: #174EA6;\n",
              "  }\n",
              "\n",
              "  [theme=dark] .colab-df-quickchart {\n",
              "    background-color: #3B4455;\n",
              "    fill: #D2E3FC;\n",
              "  }\n",
              "\n",
              "  [theme=dark] .colab-df-quickchart:hover {\n",
              "    background-color: #434B5C;\n",
              "    box-shadow: 0px 1px 3px 1px rgba(0, 0, 0, 0.15);\n",
              "    filter: drop-shadow(0px 1px 2px rgba(0, 0, 0, 0.3));\n",
              "    fill: #FFFFFF;\n",
              "  }\n",
              "</style>\n",
              "\n",
              "    <script>\n",
              "      async function quickchart(key) {\n",
              "        const containerElement = document.querySelector('#' + key);\n",
              "        const charts = await google.colab.kernel.invokeFunction(\n",
              "            'suggestCharts', [key], {});\n",
              "      }\n",
              "    </script>\n",
              "\n",
              "      <script>\n",
              "\n",
              "function displayQuickchartButton(domScope) {\n",
              "  let quickchartButtonEl =\n",
              "    domScope.querySelector('#df-ad60b00e-2d52-48e9-8404-d25e1649e541 button.colab-df-quickchart');\n",
              "  quickchartButtonEl.style.display =\n",
              "    google.colab.kernel.accessAllowed ? 'block' : 'none';\n",
              "}\n",
              "\n",
              "        displayQuickchartButton(document);\n",
              "      </script>\n",
              "      <style>\n",
              "    .colab-df-container {\n",
              "      display:flex;\n",
              "      flex-wrap:wrap;\n",
              "      gap: 12px;\n",
              "    }\n",
              "\n",
              "    .colab-df-convert {\n",
              "      background-color: #E8F0FE;\n",
              "      border: none;\n",
              "      border-radius: 50%;\n",
              "      cursor: pointer;\n",
              "      display: none;\n",
              "      fill: #1967D2;\n",
              "      height: 32px;\n",
              "      padding: 0 0 0 0;\n",
              "      width: 32px;\n",
              "    }\n",
              "\n",
              "    .colab-df-convert:hover {\n",
              "      background-color: #E2EBFA;\n",
              "      box-shadow: 0px 1px 2px rgba(60, 64, 67, 0.3), 0px 1px 3px 1px rgba(60, 64, 67, 0.15);\n",
              "      fill: #174EA6;\n",
              "    }\n",
              "\n",
              "    [theme=dark] .colab-df-convert {\n",
              "      background-color: #3B4455;\n",
              "      fill: #D2E3FC;\n",
              "    }\n",
              "\n",
              "    [theme=dark] .colab-df-convert:hover {\n",
              "      background-color: #434B5C;\n",
              "      box-shadow: 0px 1px 3px 1px rgba(0, 0, 0, 0.15);\n",
              "      filter: drop-shadow(0px 1px 2px rgba(0, 0, 0, 0.3));\n",
              "      fill: #FFFFFF;\n",
              "    }\n",
              "  </style>\n",
              "\n",
              "      <script>\n",
              "        const buttonEl =\n",
              "          document.querySelector('#df-a57e8c58-ad9d-4d71-ae7a-f2451a38ac4b button.colab-df-convert');\n",
              "        buttonEl.style.display =\n",
              "          google.colab.kernel.accessAllowed ? 'block' : 'none';\n",
              "\n",
              "        async function convertToInteractive(key) {\n",
              "          const element = document.querySelector('#df-a57e8c58-ad9d-4d71-ae7a-f2451a38ac4b');\n",
              "          const dataTable =\n",
              "            await google.colab.kernel.invokeFunction('convertToInteractive',\n",
              "                                                     [key], {});\n",
              "          if (!dataTable) return;\n",
              "\n",
              "          const docLinkHtml = 'Like what you see? Visit the ' +\n",
              "            '<a target=\"_blank\" href=https://colab.research.google.com/notebooks/data_table.ipynb>data table notebook</a>'\n",
              "            + ' to learn more about interactive tables.';\n",
              "          element.innerHTML = '';\n",
              "          dataTable['output_type'] = 'display_data';\n",
              "          await google.colab.output.renderOutput(dataTable, element);\n",
              "          const docLink = document.createElement('div');\n",
              "          docLink.innerHTML = docLinkHtml;\n",
              "          element.appendChild(docLink);\n",
              "        }\n",
              "      </script>\n",
              "    </div>\n",
              "  </div>\n"
            ]
          },
          "metadata": {},
          "execution_count": 2
        }
      ]
    },
    {
      "cell_type": "code",
      "source": [
        "X = df['Query']\n",
        "y = df['Label']\n",
        "print(X.shape, y.shape)\n",
        "print(\"Dataset Input:\", \"\\n\", X.head(5))\n",
        "print(\"Dataset Label:\", \"\\n\", y.head(5))"
      ],
      "metadata": {
        "colab": {
          "base_uri": "https://localhost:8080/"
        },
        "id": "7iHJEHurwLwA",
        "outputId": "44d67065-8f2a-4c6e-8647-69f0697091cb"
      },
      "execution_count": null,
      "outputs": [
        {
          "output_type": "stream",
          "name": "stdout",
          "text": [
            "(30919,) (30919,)\n",
            "Dataset Input: \n",
            " 0                    \" or pg_sleep  (  __TIME__  )  --\n",
            "1    create user name identified by pass123 tempora...\n",
            "2     AND 1  =  utl_inaddr.get_host_address   (    ...\n",
            "3     select * from users where id  =  '1' or @ @1 ...\n",
            "4     select * from users where id  =  1 or 1#\"  ( ...\n",
            "Name: Query, dtype: object\n",
            "Dataset Label: \n",
            " 0    1\n",
            "1    1\n",
            "2    1\n",
            "3    1\n",
            "4    1\n",
            "Name: Label, dtype: int64\n"
          ]
        }
      ]
    },
    {
      "cell_type": "code",
      "source": [
        "import nltk\n",
        "nltk.download('stopwords')\n",
        "vectorizer = CountVectorizer(min_df = 2, max_df = 0.8, stop_words = stopwords.words('english'))\n",
        "X = vectorizer.fit_transform(X.values.astype('U')).toarray()"
      ],
      "metadata": {
        "colab": {
          "base_uri": "https://localhost:8080/"
        },
        "id": "md8NG0HVwPO8",
        "outputId": "8d431b8b-d699-4613-a876-e842e8127491"
      },
      "execution_count": null,
      "outputs": [
        {
          "output_type": "stream",
          "name": "stderr",
          "text": [
            "[nltk_data] Downloading package stopwords to /root/nltk_data...\n",
            "[nltk_data]   Unzipping corpora/stopwords.zip.\n"
          ]
        }
      ]
    },
    {
      "cell_type": "code",
      "source": [
        "X_train, X_test, y_train, y_test = train_test_split(X, y, test_size = 0.2)\n",
        "print(X_train.shape)\n",
        "print(y_train.shape)\n",
        "print(X_test.shape)\n",
        "print(y_test.shape)"
      ],
      "metadata": {
        "colab": {
          "base_uri": "https://localhost:8080/"
        },
        "id": "bXrvqmz4wRL_",
        "outputId": "f260814f-2d39-4486-fe1f-2abda02d109c"
      },
      "execution_count": null,
      "outputs": [
        {
          "output_type": "stream",
          "name": "stdout",
          "text": [
            "(24735, 6594)\n",
            "(24735,)\n",
            "(6184, 6594)\n",
            "(6184,)\n"
          ]
        }
      ]
    },
    {
      "cell_type": "code",
      "source": [
        "f1_dict = {}\n",
        "precision_dict = {}\n",
        "recall_dict = {}\n",
        "accuracy_dict = {}\n",
        "train_accuracy = {}\n",
        "validation_accuracy = {}\n",
        "test_accuracy = {}"
      ],
      "metadata": {
        "id": "cWjxC6NKwWw7"
      },
      "execution_count": null,
      "outputs": []
    },
    {
      "cell_type": "code",
      "source": [
        "# LOGISTIC REGRESSION\n",
        "import time\n",
        "lr_clf = LogisticRegression()\n",
        "\n",
        "t0 = time.time()\n",
        "y_pred_lr = lr_clf.fit(X_train, y_train)\n",
        "print(f\"Temps d’apprentissage : {time.time() - t0}\")\n",
        "t1 = time.time()\n",
        "y_pred = y_pred_lr.predict(X_test)\n",
        "print(f\"Temps de prédiction : {time.time() - t1}\")\n",
        "\n",
        "print(f\"Accuracy of Logistic Regression on test set : {accuracy_score(y_pred, y_test)}\")\n",
        "print(f\"F1 Score of Logistic Regression on test set : {f1_score(y_pred, y_test)}\")\n",
        "\n",
        "# Updates model score to f1_dict\n",
        "f1_dict[\"LogisticRegression\"] = f1_score(y_pred, y_test)\n",
        "precision_dict[\"LogisticRegression\"] = precision_score(y_pred, y_test)\n",
        "recall_dict[\"LogisticRegression\"] = recall_score(y_pred, y_test)\n",
        "accuracy_dict['LogisticRegression'] = accuracy_score(y_pred, y_test)"
      ],
      "metadata": {
        "colab": {
          "base_uri": "https://localhost:8080/"
        },
        "id": "ux_byiC-wYO4",
        "outputId": "27c4b09b-18aa-444b-a5c0-14a69f92ec06"
      },
      "execution_count": null,
      "outputs": [
        {
          "output_type": "stream",
          "name": "stdout",
          "text": [
            "Temps d’apprentissage : 31.29499053955078\n",
            "Temps de prédiction : 0.2139124870300293\n",
            "Accuracy of Logistic Regression on test set : 0.9391979301423027\n",
            "F1 Score of Logistic Regression on test set : 0.9112789051439358\n"
          ]
        }
      ]
    },
    {
      "cell_type": "code",
      "source": [
        "# RANDOM FOREST\n",
        "import time\n",
        "rf_clf = RandomForestClassifier()\n",
        "t0 = time.time()\n",
        "rf_clf.fit(X_train, y_train)\n",
        "print(f\"Temps d’apprentissage : {time.time() - t0}\")\n",
        "t1 = time.time()\n",
        "y_pred = rf_clf.predict(X_test)\n",
        "print(f\"Temps de prédiction : {time.time() - t1}\")\n",
        "\n",
        "print(f\"Accuracy of Random Forest on test set : {accuracy_score(y_pred, y_test)}\")\n",
        "print(f\"F1 Score of Random Forest on test set : {f1_score(y_pred, y_test)}\")\n",
        "\n",
        "# Updates model score to f1_dict\n",
        "f1_dict[\"RandomForest\"] = f1_score(y_pred, y_test)\n",
        "precision_dict[\"RandomForest\"] = precision_score(y_pred, y_test)\n",
        "recall_dict[\"RandomForest\"] = recall_score(y_pred, y_test)\n",
        "accuracy_dict['RandomForest'] = accuracy_score(y_pred, y_test)"
      ],
      "metadata": {
        "colab": {
          "base_uri": "https://localhost:8080/"
        },
        "id": "4uXy7TAzxbh5",
        "outputId": "b9e4f3f7-079b-4ab5-ad43-fd1cdd515ef6"
      },
      "execution_count": null,
      "outputs": [
        {
          "output_type": "stream",
          "name": "stdout",
          "text": [
            "Temps d’apprentissage : 334.624715089798\n",
            "Temps de prédiction : 2.652092695236206\n",
            "Accuracy of Random Forest on test set : 0.9301423027166882\n",
            "F1 Score of Random Forest on test set : 0.9029649595687331\n"
          ]
        }
      ]
    },
    {
      "cell_type": "code",
      "source": [
        "# SUPPORT VECTOR MACHINES\n",
        "import time\n",
        "svm_clf = SVC(gamma = 'auto')\n",
        "t0 = time.time()\n",
        "svm_clf.fit(X_train, y_train)\n",
        "print(f\"Temps d’apprentissage : {time.time() - t0}\")\n",
        "t1 = time.time()\n",
        "y_pred = svm_clf.predict(X_test)\n",
        "print(f\"Temps de prédiction : {time.time() - t1}\")\n",
        "\n",
        "print(f\"Accuracy of SVM on test set : {accuracy_score(y_pred, y_test)}\")\n",
        "print(f\"F1 Score of SVM on test set : {f1_score(y_pred, y_test)}\")\n",
        "\n",
        "# Updates model score to f1_dict\n",
        "f1_dict[\"SVM\"] = f1_score(y_pred, y_test)\n",
        "precision_dict[\"SVM\"] = precision_score(y_pred, y_test)\n",
        "recall_dict[\"SVM\"] = recall_score(y_pred, y_test)\n",
        "accuracy_dict['SVM'] = accuracy_score(y_pred, y_test)"
      ],
      "metadata": {
        "colab": {
          "base_uri": "https://localhost:8080/"
        },
        "id": "OmBuRq0c1GSL",
        "outputId": "c8249420-8e05-4e56-ba66-9a723e969124"
      },
      "execution_count": null,
      "outputs": [
        {
          "output_type": "stream",
          "name": "stdout",
          "text": [
            "Temps d’apprentissage : 2579.525183916092\n",
            "Temps de prédiction : 762.2949862480164\n",
            "Accuracy of SVM on test set : 0.7571151358344114\n",
            "F1 Score of SVM on test set : 0.5036351619299405\n"
          ]
        }
      ]
    },
    {
      "cell_type": "code",
      "source": [
        "# NAIVE BAYES\n",
        "import time\n",
        "nb_clf = GaussianNB()\n",
        "\n",
        "t0 = time.time()\n",
        "nb_clf.fit(X_train, y_train)\n",
        "print(f\"Temps d’apprentissage : {time.time() - t0}\")\n",
        "t1 = time.time()\n",
        "y_pred = nb_clf.predict(X_test)\n",
        "\n",
        "print(f\"Temps de prédiction : {time.time() - t1}\")\n",
        "print(f\"Accuracy of Naive Bayes on test set : {accuracy_score(y_pred, y_test)}\")\n",
        "print(f\"F1 Score of Naive Bayes on test set : {f1_score(y_pred, y_test)}\")\n",
        "\n",
        "# Updates model score to f1_dict\n",
        "f1_dict[\"NaiveBayes\"] = f1_score(y_pred, y_test)\n",
        "precision_dict[\"NaiveBayes\"] = precision_score(y_pred, y_test)\n",
        "recall_dict[\"NaiveBayes\"] = recall_score(y_pred, y_test)\n",
        "accuracy_dict['NaiveBayes'] = accuracy_score(y_pred, y_test)"
      ],
      "metadata": {
        "colab": {
          "base_uri": "https://localhost:8080/"
        },
        "id": "MaWOMrAzDbOv",
        "outputId": "8a9cb38e-0618-49f6-ae46-0fcb0b25900f"
      },
      "execution_count": null,
      "outputs": [
        {
          "output_type": "stream",
          "name": "stdout",
          "text": [
            "Temps d’apprentissage : 3.4235172271728516\n",
            "Temps de prédiction : 0.8380327224731445\n",
            "Accuracy of Naive Bayes on test set : 0.8185640362225097\n",
            "F1 Score of Naive Bayes on test set : 0.7999286733238231\n"
          ]
        }
      ]
    },
    {
      "cell_type": "code",
      "source": [
        "# DECISION TREES\n",
        "import time\n",
        "DT = tree.DecisionTreeClassifier()\n",
        "\n",
        "t0 = time.time()\n",
        "DT.fit(X_train, y_train)\n",
        "print(f\"Temps d’apprentissage : {time.time() - t0}\")\n",
        "t1 = time.time()\n",
        "y_pred = DT.predict(X_test)\n",
        "\n",
        "print(f\"Temps de prédiction : {time.time() - t1}\")\n",
        "print(f\"Accuracy of Decision Tree on test set : {accuracy_score(y_pred, y_test)}\")\n",
        "print(f\"F1 Score of Decision Tree on test set : {f1_score(y_pred, y_test)}\")\n",
        "\n",
        "# Updates model score to f1_dict\n",
        "f1_dict[\"DecisionTree\"] = f1_score(y_pred, y_test)\n",
        "precision_dict[\"DecisionTree\"] = precision_score(y_pred, y_test)\n",
        "recall_dict[\"DecisionTree\"] = recall_score(y_pred, y_test)\n",
        "accuracy_dict['DecisionTree'] = accuracy_score(y_pred, y_test)"
      ],
      "metadata": {
        "colab": {
          "base_uri": "https://localhost:8080/"
        },
        "id": "j27PxG4-D8x-",
        "outputId": "fa814e8c-6917-4e76-97bf-f32ef0b0381b"
      },
      "execution_count": null,
      "outputs": [
        {
          "output_type": "stream",
          "name": "stdout",
          "text": [
            "Temps d’apprentissage : 250.25662302970886\n",
            "Temps de prédiction : 0.13302397727966309\n",
            "Accuracy of Decision Tree on test set : 0.9186610608020699\n",
            "F1 Score of Decision Tree on test set : 0.8890848952590958\n"
          ]
        }
      ]
    },
    {
      "cell_type": "code",
      "source": [
        "# CONVOLUTIONAL NEURAL NETWORK\n",
        "# Function to plot the history graphs of the training and validation curves during training\n",
        "def plot_history(history):\n",
        "    history_dict = history.history\n",
        "    train_loss = history_dict['loss']    # Training loss over epochs\n",
        "    val_loss = history_dict['val_loss']    # Validation loss over epochs\n",
        "    epochs = range(1, len(history_dict['loss'])+1)\n",
        "    plt.plot(epochs, train_loss,'b', label='Training error')\n",
        "    plt.plot(epochs, val_loss,'b', color=\"orange\", label='Validation error')\n",
        "    plt.title('Training and Validation Loss')\n",
        "    plt.xlabel('Epochs')\n",
        "    plt.ylabel('Loss')\n",
        "    plt.legend()\n",
        "    plt.show()\n",
        "\n",
        "def plot_historyAcc(history):\n",
        "    history_dict = history.history\n",
        "    train_acc = history_dict['accuracy']    # Training loss over epochs\n",
        "    val_acc = history_dict['val_accuracy']    # Validation loss over epochs\n",
        "    epochs = range(1, len(history_dict['accuracy'])+1)\n",
        "    plt.plot(epochs, train_acc,'b', label='Training accuracy')\n",
        "    plt.plot(epochs, val_acc,'b', color=\"orange\", label='Validation accuracy')\n",
        "    plt.title('Training and Validation Accuracy')\n",
        "    plt.xlabel('Epochs')\n",
        "    plt.ylabel('Accuracy')\n",
        "    plt.legend()\n",
        "    plt.show()\n",
        "\n",
        "# Function to plot the confusion matrix\n",
        "def plot_confusion_matrix(conf_matrix):\n",
        "    fig, ax = plt.subplots(figsize=(7.5, 7.5))\n",
        "    ax.matshow(conf_matrix, cmap=plt.cm.Blues, alpha=0.3)\n",
        "    for i in range(conf_matrix.shape[0]):\n",
        "        for j in range(conf_matrix.shape[1]):\n",
        "            ax.text(x=j, y=i, s=conf_matrix[i, j], va='center', ha='center', size='xx-large')\n",
        "\n",
        "    plt.xlabel('Predicted Value', fontsize=18)\n",
        "    plt.ylabel('Actual Value', fontsize=18)\n",
        "    plt.title('Confusion Matrix', fontsize=18)\n",
        "    plt.show()"
      ],
      "metadata": {
        "id": "M13BFrXCIjpo"
      },
      "execution_count": null,
      "outputs": []
    },
    {
      "cell_type": "code",
      "source": [
        "import time\n",
        "\n",
        "model = models.Sequential()\n",
        "model.add(layers.Conv1D(32, 1, activation = 'relu', input_shape = (1,6594)))\n",
        "model.add(layers.Conv1D(32, 1, activation = 'relu'))\n",
        "model.add(layers.Flatten())\n",
        "model.add(layers.Dense(1, activation = 'sigmoid'))\n",
        "model.summary()\n",
        "model.compile(optimizer = 'adam', loss = tf.keras.losses.BinaryCrossentropy(), metrics = ['accuracy'])\n",
        "\n",
        "X_train1 = X_train.reshape(-1, 1, 6594)\n",
        "X_test1 = X_test.reshape(-1, 1, 6594)\n",
        "t0 = time.time()\n",
        "history = model.fit(X_train1, y_train, epochs = 10, validation_data = (X_test1, y_test))\n",
        "print(f\"Temps d’apprentissage : {time.time() - t0}\")\n"
      ],
      "metadata": {
        "colab": {
          "base_uri": "https://localhost:8080/"
        },
        "id": "QqjodqaVJHVw",
        "outputId": "9f19e584-5db7-4c11-b50c-3c05b1b498ee"
      },
      "execution_count": null,
      "outputs": [
        {
          "output_type": "stream",
          "name": "stdout",
          "text": [
            "Model: \"sequential\"\n",
            "_________________________________________________________________\n",
            " Layer (type)                Output Shape              Param #   \n",
            "=================================================================\n",
            " conv1d (Conv1D)             (None, 1, 32)             211040    \n",
            "                                                                 \n",
            " conv1d_1 (Conv1D)           (None, 1, 32)             1056      \n",
            "                                                                 \n",
            " flatten (Flatten)           (None, 32)                0         \n",
            "                                                                 \n",
            " dense (Dense)               (None, 1)                 33        \n",
            "                                                                 \n",
            "=================================================================\n",
            "Total params: 212,129\n",
            "Trainable params: 212,129\n",
            "Non-trainable params: 0\n",
            "_________________________________________________________________\n",
            "Epoch 1/10\n",
            "773/773 [==============================] - 9s 10ms/step - loss: 0.1793 - accuracy: 0.9353 - val_loss: 0.0978 - val_accuracy: 0.9664\n",
            "Epoch 2/10\n",
            "773/773 [==============================] - 7s 9ms/step - loss: 0.0661 - accuracy: 0.9796 - val_loss: 0.1099 - val_accuracy: 0.9647\n",
            "Epoch 3/10\n",
            "773/773 [==============================] - 6s 8ms/step - loss: 0.0552 - accuracy: 0.9829 - val_loss: 0.1126 - val_accuracy: 0.9646\n",
            "Epoch 4/10\n",
            "773/773 [==============================] - 7s 9ms/step - loss: 0.0531 - accuracy: 0.9841 - val_loss: 0.1175 - val_accuracy: 0.9646\n",
            "Epoch 5/10\n",
            "773/773 [==============================] - 6s 8ms/step - loss: 0.0525 - accuracy: 0.9843 - val_loss: 0.1188 - val_accuracy: 0.9641\n",
            "Epoch 6/10\n",
            "773/773 [==============================] - 7s 9ms/step - loss: 0.0518 - accuracy: 0.9845 - val_loss: 0.1239 - val_accuracy: 0.9639\n",
            "Epoch 7/10\n",
            "773/773 [==============================] - 6s 8ms/step - loss: 0.0507 - accuracy: 0.9845 - val_loss: 0.1308 - val_accuracy: 0.9641\n",
            "Epoch 8/10\n",
            "773/773 [==============================] - 7s 10ms/step - loss: 0.0508 - accuracy: 0.9846 - val_loss: 0.1293 - val_accuracy: 0.9639\n",
            "Epoch 9/10\n",
            "773/773 [==============================] - 6s 8ms/step - loss: 0.0502 - accuracy: 0.9850 - val_loss: 0.1366 - val_accuracy: 0.9641\n",
            "Epoch 10/10\n",
            "773/773 [==============================] - 8s 10ms/step - loss: 0.0507 - accuracy: 0.9849 - val_loss: 0.1393 - val_accuracy: 0.9641\n",
            "Temps d’apprentissage : 86.64664101600647\n"
          ]
        }
      ]
    },
    {
      "cell_type": "code",
      "source": [
        "import time\n",
        "\n",
        "t1 = time.time()\n",
        "y_pred = model.predict(X_test1).flatten()\n",
        "# y_pred1 = [1 if x>-0.5 else 0 for x in y_pred]\n",
        "y_pred = np.round(y_pred)\n",
        "\n",
        "print(f\"Temps de prédiction : {time.time() - t1}\")\n",
        "print(f\"Accuracy of CNN on test set : {accuracy_score(y_pred, y_test)}\")\n",
        "print(f\"F1 Score of CNN on test set : {f1_score(y_pred, y_test)}\")\n",
        "\n",
        "# Updates model score to f1_dict\n",
        "f1_dict[\"CNN\"] = f1_score(y_pred, y_test)\n",
        "precision_dict[\"CNN\"] = precision_score(y_pred, y_test)\n",
        "recall_dict[\"CNN\"] = recall_score(y_pred, y_test)\n",
        "accuracy_dict['CNN'] = accuracy_score(y_pred, y_test)"
      ],
      "metadata": {
        "colab": {
          "base_uri": "https://localhost:8080/"
        },
        "id": "UiQohihqK3fp",
        "outputId": "a6ff5859-1745-4f53-e0b3-008a4bea9150"
      },
      "execution_count": null,
      "outputs": [
        {
          "output_type": "stream",
          "name": "stdout",
          "text": [
            "194/194 [==============================] - 1s 5ms/step\n",
            "Temps de prédiction : 2.468261480331421\n",
            "Accuracy of CNN on test set : 0.9641009055627425\n",
            "F1 Score of CNN on test set : 0.9498191681735986\n"
          ]
        }
      ]
    },
    {
      "cell_type": "code",
      "source": [
        "plot_model(model, show_shapes=True, to_file='CNN.png')"
      ],
      "metadata": {
        "colab": {
          "base_uri": "https://localhost:8080/",
          "height": 533
        },
        "id": "ko9OrxIWLwqK",
        "outputId": "1ab2419c-bd46-47bc-ff01-04dfd09a8e19"
      },
      "execution_count": null,
      "outputs": [
        {
          "output_type": "execute_result",
          "data": {
            "image/png": "[encoded data removed]",
            "text/plain": [
              "<IPython.core.display.Image object>"
            ]
          },
          "metadata": {},
          "execution_count": 21
        }
      ]
    },
    {
      "cell_type": "code",
      "source": [
        "# Plots loss over epochs\n",
        "plot_history(history)\n",
        "plot_historyAcc(history)"
      ],
      "metadata": {
        "colab": {
          "base_uri": "https://localhost:8080/",
          "height": 927
        },
        "id": "E58gQfRnL2GB",
        "outputId": "1fb75adc-2251-4e34-e210-120d0ab1eda3"
      },
      "execution_count": null,
      "outputs": [
        {
          "output_type": "display_data",
          "data": {
            "text/plain": [
              "<Figure size 640x480 with 1 Axes>"
            ],
            "image/png": "[encoded data removed]"
          },
          "metadata": {}
        },
        {
          "output_type": "display_data",
          "data": {
            "text/plain": [
              "<Figure size 640x480 with 1 Axes>"
            ],
            "image/png": "[encoded data removed]"
          },
          "metadata": {}
        }
      ]
    },
    {
      "cell_type": "code",
      "source": [
        "# Plots confusion matrix and displays classification report\n",
        "conf_matrix_model = confusion_matrix(y_test, y_pred)\n",
        "plot_confusion_matrix(conf_matrix_model)\n",
        "print(classification_report(y_test, y_pred, target_names=[\"Non-Intrusion\", \"Intrusion\"]))"
      ],
      "metadata": {
        "colab": {
          "base_uri": "https://localhost:8080/",
          "height": 855
        },
        "id": "gZLOZbwdMj6h",
        "outputId": "fe14af50-574c-428a-ddfa-98824475b729"
      },
      "execution_count": null,
      "outputs": [
        {
          "output_type": "display_data",
          "data": {
            "text/plain": [
              "<Figure size 750x750 with 1 Axes>"
            ],
            "image/png": "[encoded data removed]"
          },
          "metadata": {}
        },
        {
          "output_type": "stream",
          "name": "stdout",
          "text": [
            "               precision    recall  f1-score   support\n",
            "\n",
            "Non-Intrusion       0.96      0.98      0.97      3920\n",
            "    Intrusion       0.97      0.93      0.95      2264\n",
            "\n",
            "     accuracy                           0.96      6184\n",
            "    macro avg       0.97      0.96      0.96      6184\n",
            " weighted avg       0.96      0.96      0.96      6184\n",
            "\n"
          ]
        }
      ]
    },
    {
      "cell_type": "code",
      "source": [
        "keys2 = f1_dict, precision_dict, recall_dict, accuracy_dict\n",
        "metrics = ['F1_Score', 'Precision', 'Recall', 'Accuracy']\n",
        "data = pd.DataFrame(keys2)\n",
        "data.index = metrics\n",
        "data"
      ],
      "metadata": {
        "colab": {
          "base_uri": "https://localhost:8080/",
          "height": 175
        },
        "id": "1pUAh9p0NGNi",
        "outputId": "6ddf3c39-304d-46e0-f1f2-930e282b15bb"
      },
      "execution_count": null,
      "outputs": [
        {
          "output_type": "execute_result",
          "data": {
            "text/plain": [
              "           LogisticRegression  RandomForest       SVM  NaiveBayes  \\\n",
              "F1_Score             0.911279      0.902965  0.503635    0.799929   \n",
              "Precision            0.852915      0.887809  0.336572    0.990724   \n",
              "Recall               0.978217      0.918647  1.000000    0.670754   \n",
              "Accuracy             0.939198      0.930142  0.757115    0.818564   \n",
              "\n",
              "           DecisionTree       CNN  \n",
              "F1_Score       0.889085  0.949819  \n",
              "Precision      0.890459  0.928004  \n",
              "Recall         0.887715  0.972685  \n",
              "Accuracy       0.918661  0.964101  "
            ],
            "text/html": [
              "\n",
              "\n",
              "  <div id=\"df-f44476e2-b3cd-4bd6-b728-191c91fc66f3\">\n",
              "    <div class=\"colab-df-container\">\n",
              "      <div>\n",
              "<style scoped>\n",
              "    .dataframe tbody tr th:only-of-type {\n",
              "        vertical-align: middle;\n",
              "    }\n",
              "\n",
              "    .dataframe tbody tr th {\n",
              "        vertical-align: top;\n",
              "    }\n",
              "\n",
              "    .dataframe thead th {\n",
              "        text-align: right;\n",
              "    }\n",
              "</style>\n",
              "<table border=\"1\" class=\"dataframe\">\n",
              "  <thead>\n",
              "    <tr style=\"text-align: right;\">\n",
              "      <th></th>\n",
              "      <th>LogisticRegression</th>\n",
              "      <th>RandomForest</th>\n",
              "      <th>SVM</th>\n",
              "      <th>NaiveBayes</th>\n",
              "      <th>DecisionTree</th>\n",
              "      <th>CNN</th>\n",
              "    </tr>\n",
              "  </thead>\n",
              "  <tbody>\n",
              "    <tr>\n",
              "      <th>F1_Score</th>\n",
              "      <td>0.911279</td>\n",
              "      <td>0.902965</td>\n",
              "      <td>0.503635</td>\n",
              "      <td>0.799929</td>\n",
              "      <td>0.889085</td>\n",
              "      <td>0.949819</td>\n",
              "    </tr>\n",
              "    <tr>\n",
              "      <th>Precision</th>\n",
              "      <td>0.852915</td>\n",
              "      <td>0.887809</td>\n",
              "      <td>0.336572</td>\n",
              "      <td>0.990724</td>\n",
              "      <td>0.890459</td>\n",
              "      <td>0.928004</td>\n",
              "    </tr>\n",
              "    <tr>\n",
              "      <th>Recall</th>\n",
              "      <td>0.978217</td>\n",
              "      <td>0.918647</td>\n",
              "      <td>1.000000</td>\n",
              "      <td>0.670754</td>\n",
              "      <td>0.887715</td>\n",
              "      <td>0.972685</td>\n",
              "    </tr>\n",
              "    <tr>\n",
              "      <th>Accuracy</th>\n",
              "      <td>0.939198</td>\n",
              "      <td>0.930142</td>\n",
              "      <td>0.757115</td>\n",
              "      <td>0.818564</td>\n",
              "      <td>0.918661</td>\n",
              "      <td>0.964101</td>\n",
              "    </tr>\n",
              "  </tbody>\n",
              "</table>\n",
              "</div>\n",
              "      <button class=\"colab-df-convert\" onclick=\"convertToInteractive('df-f44476e2-b3cd-4bd6-b728-191c91fc66f3')\"\n",
              "              title=\"Convert this dataframe to an interactive table.\"\n",
              "              style=\"display:none;\">\n",
              "\n",
              "  <svg xmlns=\"http://www.w3.org/2000/svg\" height=\"24px\"viewBox=\"0 0 24 24\"\n",
              "       width=\"24px\">\n",
              "    <path d=\"M0 0h24v24H0V0z\" fill=\"none\"/>\n",
              "    <path d=\"M18.56 5.44l.94 2.06.94-2.06 2.06-.94-2.06-.94-.94-2.06-.94 2.06-2.06.94zm-11 1L8.5 8.5l.94-2.06 2.06-.94-2.06-.94L8.5 2.5l-.94 2.06-2.06.94zm10 10l.94 2.06.94-2.06 2.06-.94-2.06-.94-.94-2.06-.94 2.06-2.06.94z\"/><path d=\"M17.41 7.96l-1.37-1.37c-.4-.4-.92-.59-1.43-.59-.52 0-1.04.2-1.43.59L10.3 9.45l-7.72 7.72c-.78.78-.78 2.05 0 2.83L4 21.41c.39.39.9.59 1.41.59.51 0 1.02-.2 1.41-.59l7.78-7.78 2.81-2.81c.8-.78.8-2.07 0-2.86zM5.41 20L4 18.59l7.72-7.72 1.47 1.35L5.41 20z\"/>\n",
              "  </svg>\n",
              "      </button>\n",
              "\n",
              "\n",
              "\n",
              "    <div id=\"df-4c695ebd-8935-4b43-85cb-55017b862663\">\n",
              "      <button class=\"colab-df-quickchart\" onclick=\"quickchart('df-4c695ebd-8935-4b43-85cb-55017b862663')\"\n",
              "              title=\"Suggest charts.\"\n",
              "              style=\"display:none;\">\n",
              "\n",
              "<svg xmlns=\"http://www.w3.org/2000/svg\" height=\"24px\"viewBox=\"0 0 24 24\"\n",
              "     width=\"24px\">\n",
              "    <g>\n",
              "        <path d=\"M19 3H5c-1.1 0-2 .9-2 2v14c0 1.1.9 2 2 2h14c1.1 0 2-.9 2-2V5c0-1.1-.9-2-2-2zM9 17H7v-7h2v7zm4 0h-2V7h2v10zm4 0h-2v-4h2v4z\"/>\n",
              "    </g>\n",
              "</svg>\n",
              "      </button>\n",
              "    </div>\n",
              "\n",
              "<style>\n",
              "  .colab-df-quickchart {\n",
              "    background-color: #E8F0FE;\n",
              "    border: none;\n",
              "    border-radius: 50%;\n",
              "    cursor: pointer;\n",
              "    display: none;\n",
              "    fill: #1967D2;\n",
              "    height: 32px;\n",
              "    padding: 0 0 0 0;\n",
              "    width: 32px;\n",
              "  }\n",
              "\n",
              "  .colab-df-quickchart:hover {\n",
              "    background-color: #E2EBFA;\n",
              "    box-shadow: 0px 1px 2px rgba(60, 64, 67, 0.3), 0px 1px 3px 1px rgba(60, 64, 67, 0.15);\n",
              "    fill: #174EA6;\n",
              "  }\n",
              "\n",
              "  [theme=dark] .colab-df-quickchart {\n",
              "    background-color: #3B4455;\n",
              "    fill: #D2E3FC;\n",
              "  }\n",
              "\n",
              "  [theme=dark] .colab-df-quickchart:hover {\n",
              "    background-color: #434B5C;\n",
              "    box-shadow: 0px 1px 3px 1px rgba(0, 0, 0, 0.15);\n",
              "    filter: drop-shadow(0px 1px 2px rgba(0, 0, 0, 0.3));\n",
              "    fill: #FFFFFF;\n",
              "  }\n",
              "</style>\n",
              "\n",
              "    <script>\n",
              "      async function quickchart(key) {\n",
              "        const containerElement = document.querySelector('#' + key);\n",
              "        const charts = await google.colab.kernel.invokeFunction(\n",
              "            'suggestCharts', [key], {});\n",
              "      }\n",
              "    </script>\n",
              "\n",
              "      <script>\n",
              "\n",
              "function displayQuickchartButton(domScope) {\n",
              "  let quickchartButtonEl =\n",
              "    domScope.querySelector('#df-4c695ebd-8935-4b43-85cb-55017b862663 button.colab-df-quickchart');\n",
              "  quickchartButtonEl.style.display =\n",
              "    google.colab.kernel.accessAllowed ? 'block' : 'none';\n",
              "}\n",
              "\n",
              "        displayQuickchartButton(document);\n",
              "      </script>\n",
              "      <style>\n",
              "    .colab-df-container {\n",
              "      display:flex;\n",
              "      flex-wrap:wrap;\n",
              "      gap: 12px;\n",
              "    }\n",
              "\n",
              "    .colab-df-convert {\n",
              "      background-color: #E8F0FE;\n",
              "      border: none;\n",
              "      border-radius: 50%;\n",
              "      cursor: pointer;\n",
              "      display: none;\n",
              "      fill: #1967D2;\n",
              "      height: 32px;\n",
              "      padding: 0 0 0 0;\n",
              "      width: 32px;\n",
              "    }\n",
              "\n",
              "    .colab-df-convert:hover {\n",
              "      background-color: #E2EBFA;\n",
              "      box-shadow: 0px 1px 2px rgba(60, 64, 67, 0.3), 0px 1px 3px 1px rgba(60, 64, 67, 0.15);\n",
              "      fill: #174EA6;\n",
              "    }\n",
              "\n",
              "    [theme=dark] .colab-df-convert {\n",
              "      background-color: #3B4455;\n",
              "      fill: #D2E3FC;\n",
              "    }\n",
              "\n",
              "    [theme=dark] .colab-df-convert:hover {\n",
              "      background-color: #434B5C;\n",
              "      box-shadow: 0px 1px 3px 1px rgba(0, 0, 0, 0.15);\n",
              "      filter: drop-shadow(0px 1px 2px rgba(0, 0, 0, 0.3));\n",
              "      fill: #FFFFFF;\n",
              "    }\n",
              "  </style>\n",
              "\n",
              "      <script>\n",
              "        const buttonEl =\n",
              "          document.querySelector('#df-f44476e2-b3cd-4bd6-b728-191c91fc66f3 button.colab-df-convert');\n",
              "        buttonEl.style.display =\n",
              "          google.colab.kernel.accessAllowed ? 'block' : 'none';\n",
              "\n",
              "        async function convertToInteractive(key) {\n",
              "          const element = document.querySelector('#df-f44476e2-b3cd-4bd6-b728-191c91fc66f3');\n",
              "          const dataTable =\n",
              "            await google.colab.kernel.invokeFunction('convertToInteractive',\n",
              "                                                     [key], {});\n",
              "          if (!dataTable) return;\n",
              "\n",
              "          const docLinkHtml = 'Like what you see? Visit the ' +\n",
              "            '<a target=\"_blank\" href=https://colab.research.google.com/notebooks/data_table.ipynb>data table notebook</a>'\n",
              "            + ' to learn more about interactive tables.';\n",
              "          element.innerHTML = '';\n",
              "          dataTable['output_type'] = 'display_data';\n",
              "          await google.colab.output.renderOutput(dataTable, element);\n",
              "          const docLink = document.createElement('div');\n",
              "          docLink.innerHTML = docLinkHtml;\n",
              "          element.appendChild(docLink);\n",
              "        }\n",
              "      </script>\n",
              "    </div>\n",
              "  </div>\n"
            ]
          },
          "metadata": {},
          "execution_count": 24
        }
      ]
    },
    {
      "cell_type": "code",
      "source": [
        "result = data.plot(kind='bar', rot=0, figsize=(15, 7));\n",
        "result.legend(bbox_to_anchor=(1, 1.02), loc='upper left');"
      ],
      "metadata": {
        "colab": {
          "base_uri": "https://localhost:8080/",
          "height": 443
        },
        "id": "jv1lB1glNOIx",
        "outputId": "a93b8fca-c97f-4d6a-c220-25e69979791e"
      },
      "execution_count": null,
      "outputs": [
        {
          "output_type": "display_data",
          "data": {
            "text/plain": [
              "<Figure size 1500x700 with 1 Axes>"
            ],
            "image/png": "[encoded data removed]"
          },
          "metadata": {}
        }
      ]
    }
  ]
}